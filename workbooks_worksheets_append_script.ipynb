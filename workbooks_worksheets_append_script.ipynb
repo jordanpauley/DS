{
 "cells": [
  {
   "cell_type": "code",
   "execution_count": null,
   "metadata": {},
   "outputs": [],
   "source": [
    "import os\n",
    "import pandas as pd"
   ]
  },
  {
   "cell_type": "markdown",
   "metadata": {},
   "source": [
    "### note: required package (openpyxl)\n",
    "#### Special pip install procedures are sometimes required when using a VPN. The procedure circumvents SSL certificate requirements that would otherwise cause error.\n",
    "##### pip install --trusted-host pypi.org --trusted-host pypi.python.org --trusted-host files.pythonhosted.org openpyxl"
   ]
  },
  {
   "cell_type": "code",
   "execution_count": null,
   "metadata": {},
   "outputs": [],
   "source": [
    "# Set file directory\n",
    "directory = #insert directory"
   ]
  },
  {
   "cell_type": "code",
   "execution_count": null,
   "metadata": {},
   "outputs": [],
   "source": [
    "# List to hold dataframes\n",
    "sheets_df_list = []"
   ]
  },
  {
   "cell_type": "code",
   "execution_count": null,
   "metadata": {},
   "outputs": [],
   "source": [
    "# Listing every file in the directory, locating and reading .xlsx file from list, \n",
    "# reading sheets in .xlsx file and appending as pandas dataframe to list (list of dataframes), iterating process\n",
    "for filename in os.listdir(directory):\n",
    "    if filename.endswith('.xlsx'):\n",
    "        file_path = os.path.join(directory, filename)\n",
    "        xls = pd.ExcelFile(file_path)\n",
    "        for sheet_name in xls.sheet_names:\n",
    "            df = pd.read_excel(file_path, sheet_name=sheet_name)\n",
    "            sheets_df_list.append(df)"
   ]
  },
  {
   "cell_type": "code",
   "execution_count": null,
   "metadata": {},
   "outputs": [],
   "source": [
    "# Move column: For example, move column from the 3rd to last position, to the first position\n",
    "# Defining function\n",
    "def move_column(dataframe):\n",
    "    cols = list(dataframe.columns)\n",
    "    cols.insert(0, cols.pop(-3))\n",
    "    return dataframe[cols]\n",
    "\n",
    "#applying function over dataframes\n",
    "sheets_df_list = [move_column(dataframe) for dataframe in sheets_df_list]\n"
   ]
  },
  {
   "cell_type": "code",
   "execution_count": null,
   "metadata": {},
   "outputs": [],
   "source": [
    "# Converting list to pandas dataframe\n",
    "combined_df = pd.concat(sheets_df_list, ignore_index=True)"
   ]
  },
  {
   "cell_type": "code",
   "execution_count": null,
   "metadata": {},
   "outputs": [],
   "source": [
    "# Exporting to .csv\n",
    "combined_csv_path = os.path.join(directory, 'combined_files.csv')\n",
    "combined_df.to_csv(combined_csv_path, index=False)"
   ]
  }
 ],
 "metadata": {
  "kernelspec": {
   "display_name": "Python 3",
   "language": "python",
   "name": "python3"
  },
  "language_info": {
   "codemirror_mode": {
    "name": "ipython",
    "version": 3
   },
   "file_extension": ".py",
   "mimetype": "text/x-python",
   "name": "python",
   "nbconvert_exporter": "python",
   "pygments_lexer": "ipython3",
   "version": "3.10.2"
  }
 },
 "nbformat": 4,
 "nbformat_minor": 2
}
