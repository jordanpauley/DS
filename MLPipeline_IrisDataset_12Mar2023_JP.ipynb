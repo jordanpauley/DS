{
 "cells": [
  {
   "cell_type": "markdown",
   "id": "c32e0055",
   "metadata": {},
   "source": [
    "# ML Data Pipeline Project"
   ]
  },
  {
   "cell_type": "markdown",
   "id": "511d9256",
   "metadata": {},
   "source": [
    "### Importing Packages and Data"
   ]
  },
  {
   "cell_type": "code",
   "execution_count": 1,
   "id": "aafe6622",
   "metadata": {},
   "outputs": [],
   "source": [
    "from sklearn.datasets import load_iris\n",
    "from sklearn.model_selection import train_test_split\n",
    "from sklearn.preprocessing import StandardScaler\n",
    "from sklearn.decomposition import PCA\n",
    "from sklearn.pipeline import Pipeline\n",
    "from sklearn.linear_model import LogisticRegression\n",
    "from sklearn.tree import DecisionTreeClassifier\n",
    "from sklearn.ensemble import RandomForestClassifier\n",
    "from sklearn.discriminant_analysis import LinearDiscriminantAnalysis as LDA\n",
    "from sklearn.discriminant_analysis import QuadraticDiscriminantAnalysis as QDA\n",
    "from sklearn.neighbors import KNeighborsClassifier as KNN\n",
    "from sklearn.naive_bayes import GaussianNB as GNB\n",
    "from sklearn.svm import SVC\n",
    "import joblib\n",
    "import warnings\n",
    "warnings.filterwarnings('ignore')"
   ]
  },
  {
   "cell_type": "code",
   "execution_count": 2,
   "id": "1e7df57b",
   "metadata": {},
   "outputs": [],
   "source": [
    "iris_df=load_iris()"
   ]
  },
  {
   "cell_type": "code",
   "execution_count": 3,
   "id": "343bf7c5",
   "metadata": {},
   "outputs": [
    {
     "data": {
      "text/plain": [
       "array([[5.1, 3.5, 1.4, 0.2],\n",
       "       [4.9, 3. , 1.4, 0.2],\n",
       "       [4.7, 3.2, 1.3, 0.2],\n",
       "       [4.6, 3.1, 1.5, 0.2],\n",
       "       [5. , 3.6, 1.4, 0.2],\n",
       "       [5.4, 3.9, 1.7, 0.4],\n",
       "       [4.6, 3.4, 1.4, 0.3],\n",
       "       [5. , 3.4, 1.5, 0.2],\n",
       "       [4.4, 2.9, 1.4, 0.2],\n",
       "       [4.9, 3.1, 1.5, 0.1],\n",
       "       [5.4, 3.7, 1.5, 0.2],\n",
       "       [4.8, 3.4, 1.6, 0.2],\n",
       "       [4.8, 3. , 1.4, 0.1],\n",
       "       [4.3, 3. , 1.1, 0.1],\n",
       "       [5.8, 4. , 1.2, 0.2],\n",
       "       [5.7, 4.4, 1.5, 0.4],\n",
       "       [5.4, 3.9, 1.3, 0.4],\n",
       "       [5.1, 3.5, 1.4, 0.3],\n",
       "       [5.7, 3.8, 1.7, 0.3],\n",
       "       [5.1, 3.8, 1.5, 0.3],\n",
       "       [5.4, 3.4, 1.7, 0.2],\n",
       "       [5.1, 3.7, 1.5, 0.4],\n",
       "       [4.6, 3.6, 1. , 0.2],\n",
       "       [5.1, 3.3, 1.7, 0.5],\n",
       "       [4.8, 3.4, 1.9, 0.2],\n",
       "       [5. , 3. , 1.6, 0.2],\n",
       "       [5. , 3.4, 1.6, 0.4],\n",
       "       [5.2, 3.5, 1.5, 0.2],\n",
       "       [5.2, 3.4, 1.4, 0.2],\n",
       "       [4.7, 3.2, 1.6, 0.2],\n",
       "       [4.8, 3.1, 1.6, 0.2],\n",
       "       [5.4, 3.4, 1.5, 0.4],\n",
       "       [5.2, 4.1, 1.5, 0.1],\n",
       "       [5.5, 4.2, 1.4, 0.2],\n",
       "       [4.9, 3.1, 1.5, 0.2],\n",
       "       [5. , 3.2, 1.2, 0.2],\n",
       "       [5.5, 3.5, 1.3, 0.2],\n",
       "       [4.9, 3.6, 1.4, 0.1],\n",
       "       [4.4, 3. , 1.3, 0.2],\n",
       "       [5.1, 3.4, 1.5, 0.2],\n",
       "       [5. , 3.5, 1.3, 0.3],\n",
       "       [4.5, 2.3, 1.3, 0.3],\n",
       "       [4.4, 3.2, 1.3, 0.2],\n",
       "       [5. , 3.5, 1.6, 0.6],\n",
       "       [5.1, 3.8, 1.9, 0.4],\n",
       "       [4.8, 3. , 1.4, 0.3],\n",
       "       [5.1, 3.8, 1.6, 0.2],\n",
       "       [4.6, 3.2, 1.4, 0.2],\n",
       "       [5.3, 3.7, 1.5, 0.2],\n",
       "       [5. , 3.3, 1.4, 0.2],\n",
       "       [7. , 3.2, 4.7, 1.4],\n",
       "       [6.4, 3.2, 4.5, 1.5],\n",
       "       [6.9, 3.1, 4.9, 1.5],\n",
       "       [5.5, 2.3, 4. , 1.3],\n",
       "       [6.5, 2.8, 4.6, 1.5],\n",
       "       [5.7, 2.8, 4.5, 1.3],\n",
       "       [6.3, 3.3, 4.7, 1.6],\n",
       "       [4.9, 2.4, 3.3, 1. ],\n",
       "       [6.6, 2.9, 4.6, 1.3],\n",
       "       [5.2, 2.7, 3.9, 1.4],\n",
       "       [5. , 2. , 3.5, 1. ],\n",
       "       [5.9, 3. , 4.2, 1.5],\n",
       "       [6. , 2.2, 4. , 1. ],\n",
       "       [6.1, 2.9, 4.7, 1.4],\n",
       "       [5.6, 2.9, 3.6, 1.3],\n",
       "       [6.7, 3.1, 4.4, 1.4],\n",
       "       [5.6, 3. , 4.5, 1.5],\n",
       "       [5.8, 2.7, 4.1, 1. ],\n",
       "       [6.2, 2.2, 4.5, 1.5],\n",
       "       [5.6, 2.5, 3.9, 1.1],\n",
       "       [5.9, 3.2, 4.8, 1.8],\n",
       "       [6.1, 2.8, 4. , 1.3],\n",
       "       [6.3, 2.5, 4.9, 1.5],\n",
       "       [6.1, 2.8, 4.7, 1.2],\n",
       "       [6.4, 2.9, 4.3, 1.3],\n",
       "       [6.6, 3. , 4.4, 1.4],\n",
       "       [6.8, 2.8, 4.8, 1.4],\n",
       "       [6.7, 3. , 5. , 1.7],\n",
       "       [6. , 2.9, 4.5, 1.5],\n",
       "       [5.7, 2.6, 3.5, 1. ],\n",
       "       [5.5, 2.4, 3.8, 1.1],\n",
       "       [5.5, 2.4, 3.7, 1. ],\n",
       "       [5.8, 2.7, 3.9, 1.2],\n",
       "       [6. , 2.7, 5.1, 1.6],\n",
       "       [5.4, 3. , 4.5, 1.5],\n",
       "       [6. , 3.4, 4.5, 1.6],\n",
       "       [6.7, 3.1, 4.7, 1.5],\n",
       "       [6.3, 2.3, 4.4, 1.3],\n",
       "       [5.6, 3. , 4.1, 1.3],\n",
       "       [5.5, 2.5, 4. , 1.3],\n",
       "       [5.5, 2.6, 4.4, 1.2],\n",
       "       [6.1, 3. , 4.6, 1.4],\n",
       "       [5.8, 2.6, 4. , 1.2],\n",
       "       [5. , 2.3, 3.3, 1. ],\n",
       "       [5.6, 2.7, 4.2, 1.3],\n",
       "       [5.7, 3. , 4.2, 1.2],\n",
       "       [5.7, 2.9, 4.2, 1.3],\n",
       "       [6.2, 2.9, 4.3, 1.3],\n",
       "       [5.1, 2.5, 3. , 1.1],\n",
       "       [5.7, 2.8, 4.1, 1.3],\n",
       "       [6.3, 3.3, 6. , 2.5],\n",
       "       [5.8, 2.7, 5.1, 1.9],\n",
       "       [7.1, 3. , 5.9, 2.1],\n",
       "       [6.3, 2.9, 5.6, 1.8],\n",
       "       [6.5, 3. , 5.8, 2.2],\n",
       "       [7.6, 3. , 6.6, 2.1],\n",
       "       [4.9, 2.5, 4.5, 1.7],\n",
       "       [7.3, 2.9, 6.3, 1.8],\n",
       "       [6.7, 2.5, 5.8, 1.8],\n",
       "       [7.2, 3.6, 6.1, 2.5],\n",
       "       [6.5, 3.2, 5.1, 2. ],\n",
       "       [6.4, 2.7, 5.3, 1.9],\n",
       "       [6.8, 3. , 5.5, 2.1],\n",
       "       [5.7, 2.5, 5. , 2. ],\n",
       "       [5.8, 2.8, 5.1, 2.4],\n",
       "       [6.4, 3.2, 5.3, 2.3],\n",
       "       [6.5, 3. , 5.5, 1.8],\n",
       "       [7.7, 3.8, 6.7, 2.2],\n",
       "       [7.7, 2.6, 6.9, 2.3],\n",
       "       [6. , 2.2, 5. , 1.5],\n",
       "       [6.9, 3.2, 5.7, 2.3],\n",
       "       [5.6, 2.8, 4.9, 2. ],\n",
       "       [7.7, 2.8, 6.7, 2. ],\n",
       "       [6.3, 2.7, 4.9, 1.8],\n",
       "       [6.7, 3.3, 5.7, 2.1],\n",
       "       [7.2, 3.2, 6. , 1.8],\n",
       "       [6.2, 2.8, 4.8, 1.8],\n",
       "       [6.1, 3. , 4.9, 1.8],\n",
       "       [6.4, 2.8, 5.6, 2.1],\n",
       "       [7.2, 3. , 5.8, 1.6],\n",
       "       [7.4, 2.8, 6.1, 1.9],\n",
       "       [7.9, 3.8, 6.4, 2. ],\n",
       "       [6.4, 2.8, 5.6, 2.2],\n",
       "       [6.3, 2.8, 5.1, 1.5],\n",
       "       [6.1, 2.6, 5.6, 1.4],\n",
       "       [7.7, 3. , 6.1, 2.3],\n",
       "       [6.3, 3.4, 5.6, 2.4],\n",
       "       [6.4, 3.1, 5.5, 1.8],\n",
       "       [6. , 3. , 4.8, 1.8],\n",
       "       [6.9, 3.1, 5.4, 2.1],\n",
       "       [6.7, 3.1, 5.6, 2.4],\n",
       "       [6.9, 3.1, 5.1, 2.3],\n",
       "       [5.8, 2.7, 5.1, 1.9],\n",
       "       [6.8, 3.2, 5.9, 2.3],\n",
       "       [6.7, 3.3, 5.7, 2.5],\n",
       "       [6.7, 3. , 5.2, 2.3],\n",
       "       [6.3, 2.5, 5. , 1.9],\n",
       "       [6.5, 3. , 5.2, 2. ],\n",
       "       [6.2, 3.4, 5.4, 2.3],\n",
       "       [5.9, 3. , 5.1, 1.8]])"
      ]
     },
     "execution_count": 3,
     "metadata": {},
     "output_type": "execute_result"
    }
   ],
   "source": [
    "iris_df.data"
   ]
  },
  {
   "cell_type": "code",
   "execution_count": 4,
   "id": "83370ae3",
   "metadata": {},
   "outputs": [],
   "source": [
    "X_train, X_test, y_train, y_test=train_test_split(iris_df.data, iris_df.target, test_size=0.27, random_state=0)"
   ]
  },
  {
   "cell_type": "markdown",
   "id": "a1378e17",
   "metadata": {},
   "source": [
    "### Creating Pipeline"
   ]
  },
  {
   "cell_type": "markdown",
   "id": "3492b38b",
   "metadata": {},
   "source": [
    "1) Preprocessing \n",
    "2) Dimension Reduction\n",
    "3) Applying Classifiers"
   ]
  },
  {
   "cell_type": "code",
   "execution_count": 5,
   "id": "a041d533",
   "metadata": {},
   "outputs": [],
   "source": [
    "#Standardizing via Standard Scaler\n",
    "pipeline_logreg=Pipeline([('scaler1', StandardScaler()), \n",
    "                          ('pca1', PCA(n_components=2)),\n",
    "                         ('logreg_classifier', LogisticRegression(random_state=1))])"
   ]
  },
  {
   "cell_type": "code",
   "execution_count": 6,
   "id": "41947094",
   "metadata": {},
   "outputs": [],
   "source": [
    "#Standardizing via Standard Scaler\n",
    "pipeline_dectr=Pipeline([('scaler2', StandardScaler()), \n",
    "                          ('pca2', PCA(n_components=2)),\n",
    "                         ('dectr_classifier', DecisionTreeClassifier())])"
   ]
  },
  {
   "cell_type": "code",
   "execution_count": 7,
   "id": "dc138a09",
   "metadata": {},
   "outputs": [],
   "source": [
    "#Standardizing via Standard Scaler\n",
    "pipeline_randf=Pipeline([('scaler3', StandardScaler()), \n",
    "                          ('pca3', PCA(n_components=2)),\n",
    "                         ('randf_classifier', RandomForestClassifier())])"
   ]
  },
  {
   "cell_type": "code",
   "execution_count": 8,
   "id": "7a9d6ff4",
   "metadata": {},
   "outputs": [],
   "source": [
    "#Standardizing via Standard Scaler\n",
    "pipeline_lda=Pipeline([('scaler4', StandardScaler()), \n",
    "                          ('pca4', PCA(n_components=2)),\n",
    "                         ('lda_classifier', LDA())])"
   ]
  },
  {
   "cell_type": "code",
   "execution_count": 9,
   "id": "efaf6d3f",
   "metadata": {},
   "outputs": [],
   "source": [
    "#Standardizing via Standard Scaler\n",
    "pipeline_qda=Pipeline([('scaler5', StandardScaler()), \n",
    "                          ('pca5', PCA(n_components=2)),\n",
    "                         ('qda_classifier', QDA())])"
   ]
  },
  {
   "cell_type": "code",
   "execution_count": 10,
   "id": "35ed5c68",
   "metadata": {},
   "outputs": [],
   "source": [
    "#Standardizing via Standard Scaler\n",
    "pipeline_knn=Pipeline([('scaler6', StandardScaler()), \n",
    "                          ('pca6', PCA(n_components=2)),\n",
    "                         ('knn_classifier', KNN())])"
   ]
  },
  {
   "cell_type": "code",
   "execution_count": 11,
   "id": "e77a0e2e",
   "metadata": {},
   "outputs": [],
   "source": [
    "#Standardizing via Standard Scaler\n",
    "pipeline_gnb=Pipeline([('scaler7', StandardScaler()), \n",
    "                          ('pca7', PCA(n_components=2)),\n",
    "                         ('gnb_classifier', GNB())])"
   ]
  },
  {
   "cell_type": "code",
   "execution_count": 12,
   "id": "2c8d904c",
   "metadata": {},
   "outputs": [],
   "source": [
    "#Standardizing via Standard Scaler\n",
    "pipeline_svc=Pipeline([('scaler8', StandardScaler()), \n",
    "                          ('pca8', PCA(n_components=2)),\n",
    "                         ('svc_classifier', SVC())])"
   ]
  },
  {
   "cell_type": "markdown",
   "id": "d2cc31da",
   "metadata": {},
   "source": [
    "#### Initializing Pipelines"
   ]
  },
  {
   "cell_type": "code",
   "execution_count": 13,
   "id": "2371ece6",
   "metadata": {},
   "outputs": [],
   "source": [
    "pipelines = [pipeline_logreg, pipeline_dectr, pipeline_randf,\n",
    "            pipeline_lda, pipeline_qda, pipeline_knn,\n",
    "            pipeline_gnb, pipeline_svc]"
   ]
  },
  {
   "cell_type": "code",
   "execution_count": 14,
   "id": "2ad34a22",
   "metadata": {},
   "outputs": [],
   "source": [
    "most_accurate=0.0\n",
    "best_classifier=0\n",
    "best_pipeline=\"\""
   ]
  },
  {
   "cell_type": "code",
   "execution_count": 15,
   "id": "39fab536",
   "metadata": {},
   "outputs": [],
   "source": [
    "#Creating pipeline dictionary \n",
    "pipe_dict = {0: 'Logistic Regression',1: 'Decision Tree',2: 'Random Forest',\n",
    "            3: 'LDA',4: 'QDA',5: 'KNN',6: 'GNB' , 7: 'SVC'}\n",
    "\n",
    "#Fitting pipeline\n",
    "for pipe in pipelines:\n",
    "    pipe.fit(X_train, y_train)"
   ]
  },
  {
   "cell_type": "markdown",
   "id": "2da45101",
   "metadata": {},
   "source": [
    "#### Testing Models"
   ]
  },
  {
   "cell_type": "code",
   "execution_count": 16,
   "id": "00966631",
   "metadata": {},
   "outputs": [
    {
     "name": "stdout",
     "output_type": "stream",
     "text": [
      "Logistic Regression Test Accuracy: 0.8536585365853658\n",
      "Decision Tree Test Accuracy: 0.9024390243902439\n",
      "Random Forest Test Accuracy: 0.9024390243902439\n",
      "LDA Test Accuracy: 0.926829268292683\n",
      "QDA Test Accuracy: 0.8780487804878049\n",
      "KNN Test Accuracy: 0.9024390243902439\n",
      "GNB Test Accuracy: 0.9024390243902439\n",
      "SVC Test Accuracy: 0.926829268292683\n"
     ]
    }
   ],
   "source": [
    "for i, model in enumerate(pipelines):\n",
    "    print(\"{} Test Accuracy: {}\".format(pipe_dict[i],model.score(X_test, y_test)))"
   ]
  },
  {
   "cell_type": "markdown",
   "id": "008deadb",
   "metadata": {},
   "source": [
    "#### Selecting Model"
   ]
  },
  {
   "cell_type": "code",
   "execution_count": 17,
   "id": "fb45a8e8",
   "metadata": {},
   "outputs": [
    {
     "name": "stdout",
     "output_type": "stream",
     "text": [
      "Most accurate classifier: LDA\n"
     ]
    }
   ],
   "source": [
    "for i, model in enumerate(pipelines):\n",
    "    if model.score(X_test, y_test)>most_accurate:\n",
    "        most_accurate=model.score(X_test, y_test)\n",
    "        best_pipeline=model\n",
    "        best_classifier=i\n",
    "print(\"Most accurate classifier: {}\".format(pipe_dict[best_classifier]))"
   ]
  }
 ],
 "metadata": {
  "kernelspec": {
   "display_name": "Python 3 (ipykernel)",
   "language": "python",
   "name": "python3"
  },
  "language_info": {
   "codemirror_mode": {
    "name": "ipython",
    "version": 3
   },
   "file_extension": ".py",
   "mimetype": "text/x-python",
   "name": "python",
   "nbconvert_exporter": "python",
   "pygments_lexer": "ipython3",
   "version": "3.9.12"
  }
 },
 "nbformat": 4,
 "nbformat_minor": 5
}
